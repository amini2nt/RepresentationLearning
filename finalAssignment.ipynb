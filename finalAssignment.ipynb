{
 "cells": [
  {
   "cell_type": "markdown",
   "metadata": {},
   "source": [
    "# Problem 1 "
   ]
  },
  {
   "cell_type": "code",
   "execution_count": 2,
   "metadata": {},
   "outputs": [],
   "source": [
    "from scipy.special import expit\n",
    "import os\n",
    "import gzip\n",
    "import pickle\n",
    "import wget\n",
    "import random\n",
    "import numpy as np\n",
    "from scipy.special import softmax\n",
    "from sklearn.utils import shuffle\n",
    "import matplotlib.pyplot as plt\n",
    "from scipy.interpolate import make_interp_spline, BSpline\n",
    "\n",
    "import math"
   ]
  },
  {
   "cell_type": "code",
   "execution_count": 3,
   "metadata": {},
   "outputs": [],
   "source": [
    "def plotThis(x, label ):\n",
    "    xnew = np.linspace(np.arange(x.shape[0]).min(),np.arange(x.shape[0]).max(),300)\n",
    "    spl = make_interp_spline(np.arange(x.shape[0]),x, k=3)\n",
    "    power_smooth = spl(xnew)\n",
    "    xx = plt.plot(xnew,power_smooth, label = label)\n",
    "\n",
    "def vectorized_result(y):\n",
    "    e = np.zeros((10, 1))\n",
    "    e[y] = 1.0\n",
    "    return e\n",
    "\n",
    "def load_mnist():\n",
    "    if not os.path.exists(os.path.join(os.curdir, 'data')):\n",
    "        os.mkdir(os.path.join(os.curdir, 'data'))\n",
    "        wget.download('http://deeplearning.net/data/mnist/mnist.pkl.gz', out='data')\n",
    "\n",
    "    data_file = gzip.open(os.path.join(os.curdir, 'data', 'mnist.pkl.gz'), 'rb')\n",
    "    training_data, validation_data, test_data = pickle.load(data_file, encoding='latin1')\n",
    "    data_file.close()\n",
    "\n",
    "    training_inputs = np.squeeze(np.asarray([np.reshape(x, (784, 1)) for x in training_data[0]]))\n",
    "    training_results = np.squeeze(np.asarray([vectorized_result(y) for y in training_data[1]]))\n",
    "\n",
    "    validation_inputs = np.squeeze(np.asarray([np.reshape(x, (784, 1)) for x in validation_data[0]]))\n",
    "    validation_results = np.asarray(validation_data[1])\n",
    "    \n",
    "    test_inputs = np.squeeze(np.asarray([np.reshape(x, (784, 1)) for x in test_data[0]]))\n",
    "    test_results = np.squeeze(np.asarray(test_data[1]))\n",
    "    return training_inputs, training_results, validation_inputs, validation_results, test_inputs, test_results\n",
    "\n",
    "training_inputs, training_results, validation_inputs, validation_results, test_inputs, test_results= load_mnist()"
   ]
  },
  {
   "cell_type": "code",
   "execution_count": 4,
   "metadata": {},
   "outputs": [],
   "source": [
    "np.random.seed(5)\n",
    "def softmaxx(z):\n",
    "        return softmax(z, axis=1)\n",
    "\n",
    "def sigmoid(z):\n",
    "    return expit(z)\n",
    "\n",
    "def sigmoid_prime(z):\n",
    "    return z*(1-z)\n",
    "\n",
    "def ReLU(z):\n",
    "    return np.maximum(z, 0)\n",
    "\n",
    "def ReLU_prime(x):\n",
    "    return np.where(x > 0, 1.0, 0.0)\n",
    "\n",
    "def tanh(x):\n",
    "    return np.tanh(x)\n",
    "\n",
    "def tanh_prime(x):\n",
    "    return 1.0 - x**2\n",
    "\n",
    "    \n",
    "class NN(object):\n",
    "    def __init__(self, network_units, activation_fn, lr, batch_size, initialization):\n",
    "        self.network_units = network_units\n",
    "        if activation_fn ==\"ReLU\":\n",
    "            self.activation_fn = ReLU\n",
    "            self.activation_p = ReLU_prime\n",
    "        elif activation_fn == \"sigmoid\":\n",
    "            self.activation_fn = sigmoid\n",
    "            self.activation_p = sigmoid_prime\n",
    "        elif activation_fn == \"tanh\":\n",
    "            self.activation_fn = tanh\n",
    "            self.activation_p = tanh_prime\n",
    "        self.parameters = {}\n",
    "        self.gradients = {}\n",
    "        self.initialization = initialization\n",
    "        self.initialize_weights()\n",
    "        self.lr = lr\n",
    "        self.batch_size = batch_size\n",
    "    def initialize_weights(self):\n",
    "        \n",
    "        for i in range(len(self.network_units)-1):\n",
    "            \n",
    "            self.parameters[\"b\"+str(i)] = np.zeros((self.network_units[i+1]))\n",
    "            \n",
    "            if self.initialization == \"glorot\":\n",
    "                self.parameters[\"w\"+str(i)] = np.random.uniform( \n",
    "                                -np.sqrt(6./(self.network_units[i]+self.network_units[i+1])), \n",
    "                                np.sqrt(6./(self.network_units[i]+self.network_units[i+1])),\n",
    "                                size=(self.network_units[i],self.network_units[i+1])\n",
    "                                                              )\n",
    "            elif self.initialization == \"normal\":\n",
    "                self.parameters[\"w\"+str(i)] = np.random.normal(scale=1, size=(self.network_units[i],self.network_units[i+1]))\n",
    "            \n",
    "            elif self.initialization == \"zero\":\n",
    "                self.parameters[\"w\"+str(i)] = np.zeros(shape=(self.network_units[i],self.network_units[i+1]))\n",
    "    \n",
    "            self.gradients[\"b\"+str(i)] = np.zeros((self.network_units[i+1]))\n",
    "            self.gradients[\"w\"+str(i)] = np.zeros((self.network_units[i], self.network_units[i+1]))\n",
    "\n",
    "            \n",
    "    def num_parameters(self):\n",
    "        pars = 0.0\n",
    "        for i in range(len(self.network_units)-1):\n",
    "            pars += self.network_units[i]\n",
    "            pars += (self.network_units[i] * self.network_units[i+1])\n",
    "        print(\"we have \", pars/1000000, \" parameters\")\n",
    "    \n",
    "    def forward(self, x):\n",
    "        self.x = x\n",
    "        self.h1 = self.activation_fn(np.dot(x, self.parameters[\"w0\"]) + self.parameters[\"b0\"])\n",
    "        self.h2 = self.activation_fn(np.dot(self.h1, self.parameters[\"w1\"]) + self.parameters[\"b1\"])\n",
    "        self.out = expit(np.dot(self.h2, self.parameters[\"w2\"]) + self.parameters[\"b2\"])\n",
    "        return self.out\n",
    "    \n",
    "    def loss(self, y):\n",
    "        self.y = y\n",
    "        l = -y*np.log(self.out+1e-8)-(1-y)*np.log(1-self.out+1e-8)\n",
    "        m_b_l = np.sum(l, axis=1)\n",
    "        self.lossy = np.mean(m_b_l)\n",
    "        return self.lossy\n",
    "    \n",
    "    def backward(self):\n",
    "        \n",
    "        \n",
    "        dout = (-self.y/(self.out+1e-8)) + (1-self.y) * (1/(1-self.out+1e-8))\n",
    "        del2 = self.out*(1-self.out)*dout\n",
    "        doutdw2 = np.dot(self.h2.T, del2)/len(self.x)\n",
    "        doutdb2 = np.mean(del2, axis=0)\n",
    "        \n",
    "        \n",
    "        douth2 = np.dot(del2, self.parameters[\"w2\"].T)\n",
    "        del1 = self.activation_p(self.h2)*douth2\n",
    "        doutdw1 = np.dot(self.h1.T, del1)/len(self.x)\n",
    "        doutdb1 = np.mean(del1, axis=0)\n",
    "        \n",
    "        douth1 = np.dot(del1, self.parameters[\"w1\"].T)\n",
    "        del0 = self.activation_p(self.h1)*douth1\n",
    "        doutdw0 = np.dot(self.x.T, del0)/len(self.x)\n",
    "        doutdb0 = np.mean(del0, axis=0)\n",
    "        \n",
    "        self.gradients[\"w2\"] = doutdw2\n",
    "        self.gradients[\"b2\"] = doutdb2\n",
    "        self.gradients[\"w1\"] = doutdw1\n",
    "        self.gradients[\"b1\"] = doutdb1\n",
    "        self.gradients[\"w0\"] = doutdw0\n",
    "        self.gradients[\"b0\"] = doutdb0\n",
    "        \n",
    "    def grad_check(self, single_training_example, single_training_result, p, row):\n",
    "        output = self.forward(single_training_example)\n",
    "        loss = self.loss(single_training_result)\n",
    "        self.backward()\n",
    "        all_Ns = []\n",
    "        max_differences = []\n",
    "        for k in range(1,5):\n",
    "            for i in range(0,5):\n",
    "                N = k * math.pow(10,i)\n",
    "                all_Ns.append(N)\n",
    "                \n",
    "                epsilon = 1.0 / N\n",
    "\n",
    "                #finite_difference:\n",
    "                numerical_gradient = 0.0\n",
    "                max_difference = 0\n",
    "                for j in range(10):\n",
    "\n",
    "                    analytic_gradient = self.gradients[p][row][j]\n",
    "                    #left\n",
    "                    self.parameters[p][row][j] += epsilon\n",
    "                    self.forward(single_training_example)\n",
    "                    left_loss = self.loss(single_training_result)\n",
    "                    #right\n",
    "                    self.parameters[p][row][j] -= (2 * epsilon)\n",
    "                    self.forward(single_training_example)\n",
    "                    right_loss = self.loss(single_training_result)\n",
    "                    self.parameters[p][row][j] += epsilon\n",
    "                    numerical_gradient = (left_loss - right_loss)/ (2*epsilon)\n",
    "                    current_difference = np.abs(numerical_gradient - analytic_gradient)\n",
    "\n",
    "                    if j==0 and k ==1 : ##so that we print less\n",
    "                        print(\"\\n analytic gradient: \", analytic_gradient)\n",
    "                        print(\"\\n numerical gradient: \", numerical_gradient)\n",
    "\n",
    "                        print(\"\\n difference: \",current_difference)\n",
    "                    if current_difference > max_difference:\n",
    "                        max_difference = current_difference\n",
    "                max_differences.append(max_difference)\n",
    "        return all_Ns, max_differences\n",
    "        \n",
    "                \n",
    "\n",
    "    def update(self):\n",
    "        for ind in [\"w0\", \"w1\", \"w2\", \"b0\", \"b1\", \"b2\"]:\n",
    "            self.parameters[ind] -= self.lr * self.gradients[ind]\n",
    "            \n",
    "\n",
    "    def train(self,training_inputs, training_results, epochs, validation_inputs, validation_targets):\n",
    "        loss = np.zeros((epochs))\n",
    "        accuracy = np.zeros((epochs))\n",
    "        for epoch in range(epochs):\n",
    "            shuffle(training_inputs, training_results, random_state=0)\n",
    "            mini_batches = [training_inputs[k:k+self.batch_size] for k in range(0, training_inputs.shape[0], self.batch_size)]\n",
    "            mini_batches_results = [training_results[k:k+self.batch_size] for k in range(0, training_results.shape[0], self.batch_size)]\n",
    "            #print(mini_batches_results[0])\n",
    "            #break\n",
    "            current_loss=0\n",
    "            for mini_batch_index in range(len(mini_batches)):\n",
    "                self.forward(mini_batches[mini_batch_index])\n",
    "                current_loss += self.loss(mini_batches_results[mini_batch_index])\n",
    "                self.backward()\n",
    "                self.update()\n",
    "            current_loss /= len(mini_batches)\n",
    "            loss[epoch] = current_loss\n",
    "            print(\"loss \", current_loss)\n",
    "            currentAccuray = self.test(validation_inputs, validation_targets)\n",
    "            accuracy[epoch] = currentAccuray\n",
    "        return loss, accuracy \n",
    "    def test(self, validation_inputs, validation_targets):\n",
    "        results = self.forward(validation_inputs)\n",
    "        labels = np.argmax(results, axis=1)\n",
    "        accuracy = np.sum(labels == validation_targets)/100\n",
    "        print(\"validation accuracy\", accuracy)\n",
    "        return accuracy"
   ]
  },
  {
   "cell_type": "markdown",
   "metadata": {},
   "source": [
    "## Part 1 --> Initilization:\n",
    "For I ran the model with 32 as the mini batch size, 500 units for both hidden layers which makes the total number of parameters to be 0.648784 million. I used Tanh activation for the hidden layer non linearities. Learning rate was chosen to be 0.01.\n",
    "\n"
   ]
  },
  {
   "cell_type": "code",
   "execution_count": 4,
   "metadata": {},
   "outputs": [
    {
     "name": "stdout",
     "output_type": "stream",
     "text": [
      "loss  1.1164179979846724\n",
      "validation accuracy 90.75\n",
      "loss  0.6950673664685939\n",
      "validation accuracy 91.95\n",
      "loss  0.6050231667101834\n",
      "validation accuracy 92.72\n",
      "loss  0.5399757484267349\n",
      "validation accuracy 93.49\n",
      "loss  0.4851334667886092\n",
      "validation accuracy 94.21\n",
      "loss  0.43879148612648244\n",
      "validation accuracy 94.78\n",
      "loss  0.4000609361711174\n",
      "validation accuracy 95.15\n",
      "loss  0.36755883622510893\n",
      "validation accuracy 95.48\n",
      "loss  0.3399095648145816\n",
      "validation accuracy 95.7\n",
      "loss  0.31603467490692777\n",
      "validation accuracy 95.93\n"
     ]
    }
   ],
   "source": [
    "myNet = NN([784,500, 500,10], \"tanh\", lr=0.01, batch_size=32, initialization=\"glorot\")\n",
    "glorot_tanh_loss, glorot_tanh_accuracy = myNet.train(training_inputs, training_results, 10, validation_inputs, validation_results)"
   ]
  },
  {
   "cell_type": "code",
   "execution_count": null,
   "metadata": {},
   "outputs": [],
   "source": [
    "myNet.num_parameters()"
   ]
  },
  {
   "cell_type": "code",
   "execution_count": null,
   "metadata": {},
   "outputs": [],
   "source": [
    "myNet = NN([784,500,500,10], \"tanh\", lr=0.01, batch_size=32, initialization=\"normal\")\n",
    "normal_tanh_loss, normal_tanh_accuracy = myNet.train(training_inputs, training_results, 10, validation_inputs, validation_results)"
   ]
  },
  {
   "cell_type": "code",
   "execution_count": null,
   "metadata": {
    "scrolled": true
   },
   "outputs": [],
   "source": [
    "myNet = NN([784,500,500,10], \"tanh\", lr=0.01, batch_size=32, initialization=\"zero\")\n",
    "zero_tanh_loss, zero_tanh_accuracy = myNet.train(training_inputs, training_results, 10, validation_inputs, validation_results)"
   ]
  },
  {
   "cell_type": "markdown",
   "metadata": {},
   "source": [
    "# Part 1.1:\n",
    "Above we have shown the loss for every epoch for the three types of initilization. \n",
    "\n",
    "# Part 1.2:\n",
    "The three plots for both losses and accuracies are plotted in the following:\n",
    "When we have a symmetric(in this case zero initilization) initilization method, we know that the gradients for each of those weights will also be symmetric so all the updates would be same which is in essence equivalent to having only one neuron instead of 500.\n",
    "\n",
    "When we have gaussian distribution then since we are breaking the symmetry we can learn better than symmetric ones like zero. Also since the standard deviation  is 1 which is large, it quickly saturates the gradients which will slow the learning. \n",
    "\n",
    "Using glorot gave the best accuracy and the main reason is possibly because we have neither the problem of gradient saturation nor symmetry. "
   ]
  },
  {
   "cell_type": "code",
   "execution_count": null,
   "metadata": {},
   "outputs": [],
   "source": [
    "%matplotlib notebook\n",
    "plotThis(glorot_tanh_loss, \"glorot tanh loss\")\n",
    "plotThis(zero_tanh_loss, \"zero tanh loss\")\n",
    "plotThis(normal_tanh_loss, \"normal tanh loss\")\n",
    "\n",
    "plt.title(\"training loss\")\n",
    "plt.legend()\n",
    "plt.show()\n"
   ]
  },
  {
   "cell_type": "code",
   "execution_count": null,
   "metadata": {},
   "outputs": [],
   "source": [
    "%matplotlib notebook\n",
    "plotThis(glorot_tanh_accuracy, \"glorot tanh accuracy\")\n",
    "plotThis(zero_tanh_accuracy, \"zero tanh accuracy\")\n",
    "plotThis(normal_tanh_accuracy, \"normal tanh accuracy\")\n",
    "\n",
    "plt.title(\"evaluation accuracy\")\n",
    "plt.legend()\n",
    "plt.show()\n"
   ]
  },
  {
   "cell_type": "markdown",
   "metadata": {},
   "source": [
    "## Part 2 \n",
    "For the hyperparameter search, we test with the 450, 500, 550, 600, 650 as the architecture model. For the case of NonLinearity we will test with ReLU, sigmoid and tanh and for the learning rate we will try 0.001, 0.01, 0.1. I will test mini batch size for 32, 64, and 128."
   ]
  },
  {
   "cell_type": "code",
   "execution_count": null,
   "metadata": {},
   "outputs": [],
   "source": [
    "architecture = [450, 500, 550, 600, 650]\n",
    "non_linearity = [\"ReLU\", \"sigmoid\", \"tanh\"]\n",
    "learning_rate = [0.001, 0.01, 0.1]\n",
    "mini_batch_size = [32, 64, 128]\n",
    "best_accuracy = 0\n",
    "best_arch = None \n",
    "best_non_linearity = None\n",
    "best_learning_rate = None\n",
    "best_mini_batch_size = None\n",
    "for i in range(len(architecture)):\n",
    "    for j in range(len(non_linearity)):\n",
    "        for k in range(len(learning_rate)):\n",
    "            for l in range(len(mini_batch_size)):\n",
    "                myNet = NN([784,architecture[i], architecture[i], 10], non_linearity[j], lr=learning_rate[k], batch_size=mini_batch_size[l], initialization=\"glorot\")\n",
    "                -, accuracy = myNet.train(training_inputs, training_results, 10, validation_inputs, validation_results)\n",
    "                if accuracy > best_accuracy:\n",
    "                    best_accuracy = accuracy\n",
    "                    best_arch = i \n",
    "                    best_non_linearity = j\n",
    "                    best_learning_rate = k\n",
    "                    best_mini_batch_size = l\n",
    "print(\"we achieved best accuracy of \", best_accuracy, \"with the following hyperparameters:\\n \",\n",
    "                          architecture[best_arch], \" --> units for both hidden layers\\n\",\n",
    "                          non_linearity[best_non_linearity], \"--> the non Linearity chosen for the hidden layer activations\\n\",\n",
    "                          learning_rate[best_learning_rate], \"--> the learning rate\\n\", \n",
    "                          mini_batch_size[best_mini_batch_size], \"--> the size of each mini batch\\n\"\n",
    "                        \n",
    "                          \n",
    "                         )\n"
   ]
  },
  {
   "cell_type": "markdown",
   "metadata": {},
   "source": [
    "## Part 3\n",
    "\n",
    "In the following we perform gradient checking for different "
   ]
  },
  {
   "cell_type": "code",
   "execution_count": 8,
   "metadata": {},
   "outputs": [
    {
     "name": "stdout",
     "output_type": "stream",
     "text": [
      "\n",
      " analytic gradient:  0.0\n",
      "\n",
      " numerical gradient:  0.0\n",
      "difference:  0.0\n",
      "\n",
      " analytic gradient:  0.0\n",
      "\n",
      " numerical gradient:  0.0\n",
      "difference:  0.0\n",
      "\n",
      " analytic gradient:  0.0\n",
      "\n",
      " numerical gradient:  0.0\n",
      "difference:  0.0\n",
      "\n",
      " analytic gradient:  0.0\n",
      "\n",
      " numerical gradient:  0.0\n",
      "difference:  0.0\n",
      "\n",
      " analytic gradient:  0.0\n",
      "\n",
      " numerical gradient:  0.0\n",
      "difference:  0.0\n"
     ]
    }
   ],
   "source": [
    "myNet = NN([784,500,500,10], \"tanh\", lr=0.01, batch_size=32, initialization=\"glorot\")\n",
    "\n",
    "myNet.grad_check(np.asarray([training_inputs[0]]), training_results[0], \"w0\", 0);"
   ]
  },
  {
   "cell_type": "markdown",
   "metadata": {},
   "source": [
    "As you can see above all the gradients are zero for the first ten elements(the very first 10 elements of the 1st row) so the difference does not have a real meaning. It will be zero because corner of the image is all black which means all zero in the corner so the weights are going to end up az zero too. However, in the following you can see the gradient not being zero for the 161st row because the input corresponding to this weight is not zero. \n"
   ]
  },
  {
   "cell_type": "code",
   "execution_count": null,
   "metadata": {},
   "outputs": [],
   "source": [
    "myNet = NN([784,500,500,10], \"tanh\", lr=0.01, batch_size=32, initialization=\"glorot\")\n",
    "\n",
    "myNet.grad_check(np.asarray([training_inputs[0]]), training_results[0], \"w0\", 161);\n"
   ]
  },
  {
   "cell_type": "code",
   "execution_count": 9,
   "metadata": {},
   "outputs": [
    {
     "name": "stdout",
     "output_type": "stream",
     "text": [
      "\n",
      " analytic gradient:  -0.001931191033985263\n",
      "\n",
      " numerical gradient:  -0.0018906167952112973\n",
      "difference:  4.0574238773965696e-05\n",
      "\n",
      " analytic gradient:  -0.001931191033985263\n",
      "\n",
      " numerical gradient:  -0.0019307746886099153\n",
      "difference:  4.1634537534772365e-07\n",
      "\n",
      " analytic gradient:  -0.001931191033985263\n",
      "\n",
      " numerical gradient:  -0.0019311868694416034\n",
      "difference:  4.164543659576636e-09\n",
      "\n",
      " analytic gradient:  -0.001931191033985263\n",
      "\n",
      " numerical gradient:  -0.0019311909920105563\n",
      "difference:  4.19747066965348e-11\n",
      "\n",
      " analytic gradient:  -0.001931191033985263\n",
      "\n",
      " numerical gradient:  -0.001931191033754942\n",
      "difference:  2.3032097062891665e-13\n"
     ]
    }
   ],
   "source": [
    "myNet = NN([784,500,500,10], \"tanh\", lr=0.01, batch_size=32, initialization=\"glorot\")\n",
    "N, max_differences = myNet.grad_check(np.asarray([training_inputs[0]]), training_results[0], \"w1\", 0);\n"
   ]
  },
  {
   "cell_type": "markdown",
   "metadata": {},
   "source": [
    "As shown above I tried for the second layer weights and you can properly see that the gradient checking is getting done appropriately. Since the second layers gives me more accurate gradient difference between the numerical and analytic gradient I will plot that only against N:\n",
    "\n"
   ]
  },
  {
   "cell_type": "code",
   "execution_count": 9,
   "metadata": {},
   "outputs": [
    {
     "data": {
      "image/png": "[encoded data removed]",
      "text/plain": [
       "<Figure size 432x288 with 1 Axes>"
      ]
     },
     "metadata": {
      "needs_background": "light"
     },
     "output_type": "display_data"
    }
   ],
   "source": [
    "\n",
    "fig, ax = plt.subplots()\n",
    "ax.plot(N, max_differences, 'o')\n",
    "plt.ylabel(\"max difference of the two gradients\")\n",
    "plt.xlabel(\"different values of N\")\n",
    "plt.show()\n"
   ]
  },
  {
   "cell_type": "markdown",
   "metadata": {},
   "source": [
    "The above plot shows that for very low values of N which makes epsilon large it is not good at all. But the larger values of N which make epsilon smaller gives us a more accurate gradient checking. "
   ]
  },
  {
   "cell_type": "code",
   "execution_count": null,
   "metadata": {},
   "outputs": [],
   "source": []
  }
 ],
 "metadata": {
  "kernelspec": {
   "display_name": "Python 3",
   "language": "python",
   "name": "python3"
  },
  "language_info": {
   "codemirror_mode": {
    "name": "ipython",
    "version": 3
   },
   "file_extension": ".py",
   "mimetype": "text/x-python",
   "name": "python",
   "nbconvert_exporter": "python",
   "pygments_lexer": "ipython3",
   "version": "3.6.7"
  }
 },
 "nbformat": 4,
 "nbformat_minor": 2
}
