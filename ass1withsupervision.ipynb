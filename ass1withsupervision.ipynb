{
 "cells": [
  {
   "cell_type": "code",
   "execution_count": 1,
   "metadata": {},
   "outputs": [],
   "source": [
    "from scipy.special import expit\n",
    "import os\n",
    "import gzip\n",
    "import cPickle\n",
    "import wget\n",
    "import random\n",
    "import numpy as np\n",
    "from scipy.special import softmax"
   ]
  },
  {
   "cell_type": "code",
   "execution_count": 34,
   "metadata": {},
   "outputs": [],
   "source": [
    "def vectorized_result(y):\n",
    "    e = np.zeros((10, 1))\n",
    "    e[y] = 1.0\n",
    "    return e\n",
    "\n",
    "def load_mnist():\n",
    "    if not os.path.exists(os.path.join(os.curdir, 'data')):\n",
    "        os.mkdir(os.path.join(os.curdir, 'data'))\n",
    "        wget.download('http://deeplearning.net/data/mnist/mnist.pkl.gz', out='data')\n",
    "\n",
    "    data_file = gzip.open(os.path.join(os.curdir, 'data', 'mnist.pkl.gz'), 'rb')\n",
    "    training_data, validation_data, test_data = cPickle.load(data_file)\n",
    "    data_file.close()\n",
    "\n",
    "    training_inputs = np.squeeze(np.asarray([np.reshape(x, (784, 1)) for x in training_data[0]]))\n",
    "    training_results = np.squeeze(np.asarray([vectorized_result(y) for y in training_data[1]]))\n",
    "\n",
    "    validation_inputs = np.squeeze(np.asarray([np.reshape(x, (784, 1)) for x in validation_data[0]]))\n",
    "    validation_results = np.asarray(validation_data[1])\n",
    "    \n",
    "    test_inputs = np.squeeze(np.asarray([np.reshape(x, (784, 1)) for x in test_data[0]]))\n",
    "    test_results = np.squeeze(np.asarray(test_data[1]))\n",
    "    return training_inputs, training_results, validation_inputs, validation_results, test_inputs, test_results\n",
    "\n",
    "training_inputs, training_results, validation_inputs, validation_results, test_inputs, test_results= load_mnist()"
   ]
  },
  {
   "cell_type": "code",
   "execution_count": 36,
   "metadata": {},
   "outputs": [
    {
     "name": "stdout",
     "output_type": "stream",
     "text": [
      "(10000,)\n"
     ]
    }
   ],
   "source": [
    "print(validation_results.shape)"
   ]
  },
  {
   "cell_type": "code",
   "execution_count": 21,
   "metadata": {},
   "outputs": [],
   "source": [
    "def softmaxx(z):\n",
    "        return softmax(z, axis=1)\n",
    "\n",
    "def sigmoid(z):\n",
    "    return 1.0/(1.0+np.exp(-z))\n",
    "\n",
    "def sigmoid_prime(z):\n",
    "    z = 1.0/(1.0+np.exp(-z))\n",
    "    return z*(1-z)\n",
    "\n",
    "def ReLU(z):\n",
    "    return np.maximum(z, 0)\n",
    "\n",
    "def ReLU_prime(x):\n",
    "    return np.where(x > 0, 1.0, 0.0)\n",
    "\n",
    "    \n",
    "class NN(object):\n",
    "    def __init__(self, network_units, activation_fn):\n",
    "        self.network_units = network_units\n",
    "        if activation_fn ==\"softmax\":\n",
    "            self.activation_fn=softmax\n",
    "        elif activation_fn ==\"ReLU\":\n",
    "            self.activation_fn = ReLU\n",
    "        self.parameters = {}\n",
    "        self.gradients = {}\n",
    "        self.initialize_weights()\n",
    "        \n",
    "    \n",
    "    def initialize_weights(self):\n",
    "        \n",
    "        for i in xrange(len(self.network_units)-1):\n",
    "            self.parameters[\"b\"+str(i)] = np.zeros((self.network_units[i+1]))\n",
    "            self.parameters[\"w\"+str(i)] = np.random.uniform( \n",
    "                            -np.sqrt(6./(self.network_units[i]+self.network_units[i+1])), \n",
    "                            np.sqrt(6./(self.network_units[i]+self.network_units[i+1])),\n",
    "                            size=(self.network_units[i],self.network_units[i+1])\n",
    "                                                          )\n",
    "            \n",
    "            self.gradients[\"b\"+str(i)] = np.zeros((self.network_units[i+1]))\n",
    "            self.gradients[\"w\"+str(i)] = np.zeros((self.network_units[i], self.network_units[i+1]))\n",
    "\n",
    "            \n",
    "    \n",
    "    def forward(self, x):\n",
    "        self.x = x\n",
    "        self.h1 = self.activation_fn(np.dot(x, self.parameters[\"w0\"]) + self.parameters[\"b0\"])\n",
    "        self.h2 = self.activation_fn(np.dot(self.h1, self.parameters[\"w1\"]) + self.parameters[\"b1\"])\n",
    "        self.out = sigmoid(np.dot(self.h2, self.parameters[\"w2\"]) + self.parameters[\"b2\"])\n",
    "        return self.out\n",
    "    \n",
    "    def loss(self, y):\n",
    "        self.y = y\n",
    "        l = np.nan_to_num(-y*np.log(self.out)-(1-y)*np.log(1-self.out))\n",
    "        m_b_l = np.sum(l, axis=1)\n",
    "        self.loss = np.mean(m_b_l)\n",
    "        return self.loss\n",
    "    \n",
    "    def backward(self):\n",
    "        \n",
    "        dout = (-self.y //self.out) + (1-self.y) * (1//(1-self.out))\n",
    "        dout = np.mean(dout, axis=0) ## because we are doing batch gradient descent\n",
    "        #doutdw2 = \n",
    "        "
   ]
  },
  {
   "cell_type": "code",
   "execution_count": 22,
   "metadata": {},
   "outputs": [],
   "source": [
    "myNet = NN([784,400,400,10], \"ReLU\")\n",
    "myNet.forward(np.random.randn(5,784))\n",
    "myNet.loss(np.random.rand(5,10))\n",
    "myNet.backward()\n"
   ]
  },
  {
   "cell_type": "code",
   "execution_count": null,
   "metadata": {},
   "outputs": [],
   "source": [
    "print(myNet.h2.shape)"
   ]
  },
  {
   "cell_type": "code",
   "execution_count": 23,
   "metadata": {},
   "outputs": [
    {
     "ename": "AttributeError",
     "evalue": "'list' object has no attribute 'shape'",
     "output_type": "error",
     "traceback": [
      "\u001b[0;31m---------------------------------------------------------------------------\u001b[0m",
      "\u001b[0;31mAttributeError\u001b[0m                            Traceback (most recent call last)",
      "\u001b[0;32m<ipython-input-23-8852729f0f48>\u001b[0m in \u001b[0;36m<module>\u001b[0;34m()\u001b[0m\n\u001b[0;32m----> 1\u001b[0;31m \u001b[0mtrain_data\u001b[0m\u001b[0;34m.\u001b[0m\u001b[0mshape\u001b[0m\u001b[0;34m\u001b[0m\u001b[0m\n\u001b[0m",
      "\u001b[0;31mAttributeError\u001b[0m: 'list' object has no attribute 'shape'"
     ]
    }
   ],
   "source": [
    "train_data.shape"
   ]
  },
  {
   "cell_type": "code",
   "execution_count": null,
   "metadata": {},
   "outputs": [],
   "source": [
    "x = np.random.randn(5,3)\n",
    "print(x)\n",
    "print(\"relu\")\n",
    "print(np.maximum(x,0))"
   ]
  },
  {
   "cell_type": "code",
   "execution_count": null,
   "metadata": {},
   "outputs": [],
   "source": [
    "from scipy.special import softmax\n",
    "import numpy as np\n",
    "\n",
    "def softmaxx(z):\n",
    "        return softmax(z, axis=1)\n",
    "x = softmaxx(np.random.randn(5,3))    \n",
    "print(np.sum(x,axis=1))"
   ]
  },
  {
   "cell_type": "code",
   "execution_count": 19,
   "metadata": {},
   "outputs": [
    {
     "data": {
      "text/plain": [
       "array([[1., 0.],\n",
       "       [0., 1.]])"
      ]
     },
     "execution_count": 19,
     "metadata": {},
     "output_type": "execute_result"
    }
   ],
   "source": [
    "\n",
    "reluprime(np.asarray([[1,-1],[-1,1]]))"
   ]
  },
  {
   "cell_type": "code",
   "execution_count": null,
   "metadata": {},
   "outputs": [],
   "source": []
  },
  {
   "cell_type": "code",
   "execution_count": null,
   "metadata": {},
   "outputs": [],
   "source": []
  },
  {
   "cell_type": "code",
   "execution_count": null,
   "metadata": {},
   "outputs": [],
   "source": []
  }
 ],
 "metadata": {
  "kernelspec": {
   "display_name": "Python 2",
   "language": "python",
   "name": "python2"
  },
  "language_info": {
   "codemirror_mode": {
    "name": "ipython",
    "version": 2
   },
   "file_extension": ".py",
   "mimetype": "text/x-python",
   "name": "python",
   "nbconvert_exporter": "python",
   "pygments_lexer": "ipython2",
   "version": "2.7.15"
  }
 },
 "nbformat": 4,
 "nbformat_minor": 2
}
