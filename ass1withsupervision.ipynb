{
 "cells": [
  {
   "cell_type": "code",
   "execution_count": 1,
   "metadata": {},
   "outputs": [],
   "source": [
    "from scipy.special import expit\n",
    "import os\n",
    "import gzip\n",
    "import cPickle\n",
    "import wget\n",
    "import random\n",
    "import numpy as np"
   ]
  },
  {
   "cell_type": "code",
   "execution_count": 2,
   "metadata": {},
   "outputs": [],
   "source": [
    "def vectorized_result(y):\n",
    "    e = np.zeros((10, 1))\n",
    "    e[y] = 1.0\n",
    "    return e\n",
    "\n",
    "def load_mnist():\n",
    "    if not os.path.exists(os.path.join(os.curdir, 'data')):\n",
    "        os.mkdir(os.path.join(os.curdir, 'data'))\n",
    "        wget.download('http://deeplearning.net/data/mnist/mnist.pkl.gz', out='data')\n",
    "\n",
    "    data_file = gzip.open(os.path.join(os.curdir, 'data', 'mnist.pkl.gz'), 'rb')\n",
    "    training_data, validation_data, test_data = cPickle.load(data_file)\n",
    "    data_file.close()\n",
    "\n",
    "    training_inputs = [np.reshape(x, (784, 1)) for x in training_data[0]]\n",
    "    training_results = [vectorized_result(y) for y in training_data[1]]\n",
    "    training_data = zip(training_inputs, training_results)\n",
    "\n",
    "    validation_inputs = [np.reshape(x, (784, 1)) for x in validation_data[0]]\n",
    "    validation_results = validation_data[1]\n",
    "    validation_data = zip(validation_inputs, validation_results)\n",
    "\n",
    "    test_inputs = [np.reshape(x, (784, 1)) for x in test_data[0]]\n",
    "    test_data = zip(test_inputs, test_data[1])\n",
    "    return training_data, validation_data, test_data\n",
    "train_data, valid_data, test_data = load_mnist()"
   ]
  },
  {
   "cell_type": "code",
   "execution_count": null,
   "metadata": {},
   "outputs": [],
   "source": [
    "class NN(object):\n",
    "    def __init__(self, network_units, activation_fn):\n",
    "        self.network_units = network_units\n",
    "        self.activation_fn = activation_fn\n",
    "        self.parameters = {}\n",
    "        \n",
    "    \n",
    "    def initialize_weights(self):\n",
    "        \n",
    "        for i in xrange(len(network_units)-1):\n",
    "            parameters[\"b\"+str(i)] = np.zeros((self.network_units[i],1))\n",
    "            parameters[\"w\"+str(i)] = np.random.uniform( -np.sqrt(6/(network_dims[i]+network_dims[i+1])), \n",
    "                                                        np.sqrt(6/(network_dims[i]+network_dims[i+1])),\n",
    "                                                        size=(network_dims[i]),network_dims[i+1]\n",
    "                                                      )\n",
    "        \n",
    "        "
   ]
  }
 ],
 "metadata": {
  "kernelspec": {
   "display_name": "Python 2",
   "language": "python",
   "name": "python2"
  },
  "language_info": {
   "codemirror_mode": {
    "name": "ipython",
    "version": 2
   },
   "file_extension": ".py",
   "mimetype": "text/x-python",
   "name": "python",
   "nbconvert_exporter": "python",
   "pygments_lexer": "ipython2",
   "version": "2.7.15"
  }
 },
 "nbformat": 4,
 "nbformat_minor": 2
}
