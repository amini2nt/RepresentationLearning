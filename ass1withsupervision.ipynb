{
 "cells": [
  {
   "cell_type": "code",
   "execution_count": null,
   "metadata": {},
   "outputs": [],
   "source": [
    "from scipy.special import expit\n",
    "import os\n",
    "import gzip\n",
    "import cPickle\n",
    "import wget\n",
    "import random\n",
    "import numpy as np\n",
    "from scipy.special import softmax"
   ]
  },
  {
   "cell_type": "code",
   "execution_count": null,
   "metadata": {},
   "outputs": [],
   "source": [
    "def vectorized_result(y):\n",
    "    e = np.zeros((10, 1))\n",
    "    e[y] = 1.0\n",
    "    return e\n",
    "\n",
    "def load_mnist():\n",
    "    if not os.path.exists(os.path.join(os.curdir, 'data')):\n",
    "        os.mkdir(os.path.join(os.curdir, 'data'))\n",
    "        wget.download('http://deeplearning.net/data/mnist/mnist.pkl.gz', out='data')\n",
    "\n",
    "    data_file = gzip.open(os.path.join(os.curdir, 'data', 'mnist.pkl.gz'), 'rb')\n",
    "    training_data, validation_data, test_data = cPickle.load(data_file)\n",
    "    data_file.close()\n",
    "\n",
    "    training_inputs = [np.reshape(x, (784, 1)) for x in training_data[0]]\n",
    "    training_results = [vectorized_result(y) for y in training_data[1]]\n",
    "    training_data = zip(training_inputs, training_results)\n",
    "\n",
    "    validation_inputs = [np.reshape(x, (784, 1)) for x in validation_data[0]]\n",
    "    validation_results = validation_data[1]\n",
    "    validation_data = zip(validation_inputs, validation_results)\n",
    "\n",
    "    test_inputs = [np.reshape(x, (784, 1)) for x in test_data[0]]\n",
    "    test_data = zip(test_inputs, test_data[1])\n",
    "    return training_data, validation_data, test_data\n",
    "train_data, valid_data, test_data = load_mnist()"
   ]
  },
  {
   "cell_type": "code",
   "execution_count": null,
   "metadata": {},
   "outputs": [],
   "source": [
    "def softmax(z):\n",
    "        return softmax(z, axis=1)\n",
    "\n",
    "def ReLU(z):\n",
    "    return np.maximum(z, 0)\n",
    "    \n",
    "class NN(object):\n",
    "    def __init__(self, network_units, activation_fn):\n",
    "        self.network_units = network_units\n",
    "        if activation_fn ==\"softmax\":\n",
    "            self.activation_fn=softmax\n",
    "        elif activation_fn ==\"ReLU\":\n",
    "            self.activation_fn = ReLU\n",
    "        self.parameters = {}\n",
    "        self.initialize_weights()\n",
    "        \n",
    "    \n",
    "    def initialize_weights(self):\n",
    "        \n",
    "        for i in xrange(len(self.network_units)-1):\n",
    "            self.parameters[\"b\"+str(i)] = np.zeros((self.network_units[i+1],1))\n",
    "            self.parameters[\"w\"+str(i)] = np.random.uniform( \n",
    "                            -np.sqrt(6/(self.network_units[i]+self.network_units[i+1])), \n",
    "                            np.sqrt(6/(self.network_units[i]+self.network_units[i+1])),\n",
    "                            size=(self.network_units[i],self.network_units[i+1])\n",
    "                                                          )\n",
    "            \n",
    "    \n",
    "    def forward(self, x):\n",
    "        h1 = activation_fn(np.dot(self.parameters[\"w0\"], x) + self.parameters[\"b0\"]) \n",
    "        h2 = activation_fn(np.dot(self.parameters[\"w1\"], h1) + self.parameters[\"b1\"]) \n",
    "        out = softmax(np.dot(self.parameters[\"w2\"], h2) + self.parameters[\"b2\"])\n",
    "        \n",
    "        "
   ]
  },
  {
   "cell_type": "code",
   "execution_count": null,
   "metadata": {},
   "outputs": [],
   "source": [
    "myNet = NN([784,400,400,10], \"ReLU\")"
   ]
  },
  {
   "cell_type": "code",
   "execution_count": null,
   "metadata": {},
   "outputs": [],
   "source": []
  },
  {
   "cell_type": "code",
   "execution_count": null,
   "metadata": {},
   "outputs": [],
   "source": []
  }
 ],
 "metadata": {
  "kernelspec": {
   "display_name": "Python 2",
   "language": "python",
   "name": "python2"
  },
  "language_info": {
   "codemirror_mode": {
    "name": "ipython",
    "version": 2
   },
   "file_extension": ".py",
   "mimetype": "text/x-python",
   "name": "python",
   "nbconvert_exporter": "python",
   "pygments_lexer": "ipython2",
   "version": "2.7.15"
  }
 },
 "nbformat": 4,
 "nbformat_minor": 2
}
