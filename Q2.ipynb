{
 "cells": [
  {
   "cell_type": "code",
   "execution_count": 1,
   "metadata": {
    "scrolled": true
   },
   "outputs": [],
   "source": [
    "import time\n",
    "import numpy as np\n",
    "import torch\n",
    "import torch.nn as nn\n",
    "import torch.optim as optim\n",
    "import torch.nn.init as init\n",
    "import torch.nn.functional as F\n",
    "import torchvision\n",
    "import torchvision.transforms\n",
    "\n"
   ]
  },
  {
   "cell_type": "code",
   "execution_count": 2,
   "metadata": {},
   "outputs": [],
   "source": [
    "class Classifier(nn.Module):\n",
    "    \"\"\"Convnet Classifier\"\"\"\n",
    "    def __init__(self, feature_maps, dropouts):\n",
    "        super(Classifier, self).__init__()\n",
    "        self.feature_maps = feature_maps\n",
    "        self.dropouts = dropouts\n",
    "        layers = self.layer(1,feature_maps[0], dropouts[0])+self.layer(feature_maps[0],feature_maps[1], dropouts[1])+self.layer(feature_maps[1],feature_maps[2], dropouts[2])+self.layer(feature_maps[2],feature_maps[3], dropouts[3])+self.layer(feature_maps[3],feature_maps[4], dropouts[4])\n",
    "        self.conv = nn.Sequential(*layers)\n",
    "        self.clf = nn.Linear(feature_maps[-1], 10)\n",
    "        self.drop = nn.Dropout(p=0.4)\n",
    "        \n",
    "        \n",
    "        \n",
    "    def layer(self, i, o, dropout=0.1):\n",
    "        return [nn.Conv2d(in_channels=i, out_channels=o, kernel_size=(4, 4), padding=2),\n",
    "                nn.Dropout(p=dropout),\n",
    "                nn.ReLU(),\n",
    "                nn.MaxPool2d(kernel_size=(2, 2), stride=2)]\n",
    "    \n",
    "    def num_parameters(self):\n",
    "        pars = 0\n",
    "        for a,b in zip([1] + self.feature_maps, self.feature_maps):\n",
    "            current_layer_parameters = a * 16 * b\n",
    "            pars = pars + current_layer_parameters\n",
    "        pars = pars + self.feature_maps[-1] * 10\n",
    "        print(\"we have \", float(pars)/1000000, \" million parameters\") # Ignore biases\n",
    "    \n",
    "    def forward(self, x):\n",
    "        x = self.conv(x)\n",
    "        y = x.squeeze()\n",
    "        return self.clf(self.drop(y))"
   ]
  },
  {
   "cell_type": "code",
   "execution_count": 3,
   "metadata": {},
   "outputs": [
    {
     "name": "stdout",
     "output_type": "stream",
     "text": [
      "Cuda available: True\n",
      "[20, 40, 60, 80, 128] [0, 0.1, 0.1, 0.1, 0.1]\n",
      "we have  0.29344  million parameters\n",
      "[(97.73, 0.3133403287211588), (98.56, 0.07701171177830587), (99.05, 0.05405241299643001), (99.23, 0.04303718856903218), (99.12, 0.03510017940865905), (99.15, 0.03182496242066309), (99.24, 0.027519334534576327), (99.12, 0.0239454806784291), (99.15, 0.022417329283538404), (99.2, 0.020359554862194477)]\n"
     ]
    }
   ],
   "source": [
    "import pprint\n",
    "\n",
    "perf = {}\n",
    "\n",
    "torch.manual_seed(0)\n",
    "mnist_transforms = torchvision.transforms.Compose([torchvision.transforms.ToTensor()])\n",
    "mnist_train = torchvision.datasets.MNIST(root='./data', train=True, transform=mnist_transforms, download=True)\n",
    "mnist_test = torchvision.datasets.MNIST(root='./data', train=False, transform=mnist_transforms, download=True)\n",
    "\n",
    "train_loader = torch.utils.data.DataLoader(mnist_train, batch_size=64, shuffle=True, num_workers=2)\n",
    "test_loader = torch.utils.data.DataLoader(mnist_test, batch_size=64, shuffle=True, num_workers=2)\n",
    "\n",
    "cuda_available = torch.cuda.is_available()\n",
    "print(\"Cuda available: %s\" % cuda_available)\n",
    "feature_maps = [[20,40,60,80,128], [20,40,60,50,40], [20,40,50,60,70]]\n",
    "dropouts = [[0, 0.1, 0.1, 0.1,0.1 ], [0, 0.4, 0.4, 0.1,0.1 ], [0, 0.1, 0.5, 0.1,0.5 ]]\n",
    "feature_maps = [feature_maps[0]]\n",
    "dropouts = [dropouts[0]]\n",
    "\n",
    "for feature_map in feature_maps:\n",
    "    for dropout in dropouts:\n",
    "        hyper = str(feature_map)+\" \"+str(dropout)\n",
    "        print(hyper)\n",
    "        perf[hyper] = []\n",
    "        clf = Classifier(feature_map, dropout)\n",
    "        clf.num_parameters()\n",
    "        if cuda_available:\n",
    "            clf = clf.cuda()\n",
    "        optimizer = torch.optim.Adam(clf.parameters(), lr=0.001)\n",
    "        criterion = nn.CrossEntropyLoss() #  LogSoftmax and NLLLoss\n",
    "\n",
    "        for epoch in range(10):\n",
    "            # Train\n",
    "            current_epoch_loss = []\n",
    "            for batch_idx, (inputs, targets) in enumerate(train_loader):\n",
    "                if cuda_available:\n",
    "                    inputs, targets = inputs.cuda(), targets.cuda()\n",
    "\n",
    "                optimizer.zero_grad()\n",
    "                loss = criterion(clf(inputs), targets)\n",
    "                loss.backward()\n",
    "                optimizer.step()\n",
    "                current_epoch_loss.append(loss.item())\n",
    "            myLoss =  np.mean(current_epoch_loss)\n",
    "            \n",
    "            #    if batch_idx%500==0:\n",
    "            #       print('Epoch : %d, Loss : %.3f ' % (epoch, np.mean(losses)))\n",
    "            \n",
    "            # Evaluate\n",
    "            clf.eval()\n",
    "            total = 0\n",
    "            correct = 0\n",
    "            for batch_idx, (inputs, targets) in enumerate(test_loader):\n",
    "                if cuda_available:\n",
    "                    inputs, targets = inputs.cuda(), targets.cuda()\n",
    "                outputs = clf(inputs)\n",
    "                _, predicted = torch.max(outputs.data, 1)\n",
    "                total += targets.size(0)\n",
    "                correct += predicted.eq(targets.data).cpu().sum()\n",
    "            accur = 100*float(correct)/total    \n",
    "            #print('Epoch : %d, Test Accuracy : %.2f%%, number of tests : %d' % (epoch, accur, total))\n",
    "            #print('--------------------------------------------------------------')\n",
    "            clf.train()\n",
    "            perf[hyper].append((accur, myLoss))\n",
    "        print(perf[hyper])\n",
    "\n"
   ]
  },
  {
   "cell_type": "markdown",
   "metadata": {},
   "source": [
    "# we select the  top 3 combination of hyperparameters in the following:  "
   ]
  },
  {
   "cell_type": "code",
   "execution_count": 5,
   "metadata": {},
   "outputs": [],
   "source": [
    "def plotThis(x, label ):\n",
    "    xnew = np.linspace(np.arange(x.shape[0]).min(),np.arange(x.shape[0]).max(),300)\n",
    "    spl = make_interp_spline(np.arange(x.shape[0]),x, k=3)\n",
    "    power_smooth = spl(xnew)\n",
    "    xx = plt.plot(xnew,power_smooth, label = label)\n"
   ]
  },
  {
   "cell_type": "code",
   "execution_count": 6,
   "metadata": {},
   "outputs": [],
   "source": [
    "import matplotlib.pyplot as plt\n",
    "from scipy.interpolate import make_interp_spline, BSpline\n"
   ]
  },
  {
   "cell_type": "code",
   "execution_count": 14,
   "metadata": {},
   "outputs": [
    {
     "data": {
      "image/png": "[encoded data removed]",
      "text/plain": [
       "<Figure size 432x288 with 1 Axes>"
      ]
     },
     "metadata": {
      "needs_background": "light"
     },
     "output_type": "display_data"
    }
   ],
   "source": [
    "plotThis(np.array([x[0] for x in perf[\"[20, 40, 60, 80, 128] [0, 0.1, 0.1, 0.1, 0.1]\"]]), \"accuracy\")\n",
    "\n",
    "plt.title(\"validation accuracy\")\n",
    "plt.xlabel(\"epoch\")\n",
    "plt.legend()\n",
    "plt.show()"
   ]
  },
  {
   "cell_type": "code",
   "execution_count": 9,
   "metadata": {},
   "outputs": [
    {
     "data": {
      "text/plain": [
       "(97.73, 0.3133403287211588)"
      ]
     },
     "execution_count": 9,
     "metadata": {},
     "output_type": "execute_result"
    }
   ],
   "source": [
    "perf[\"[20, 40, 60, 80, 128] [0, 0.1, 0.1, 0.1, 0.1]\"][0]"
   ]
  },
  {
   "cell_type": "code",
   "execution_count": 13,
   "metadata": {},
   "outputs": [
    {
     "data": {
      "image/png": "[encoded data removed]",
      "text/plain": [
       "<Figure size 432x288 with 1 Axes>"
      ]
     },
     "metadata": {
      "needs_background": "light"
     },
     "output_type": "display_data"
    }
   ],
   "source": [
    "plotThis(np.array([x[1] for x in perf[\"[20, 40, 60, 80, 128] [0, 0.1, 0.1, 0.1, 0.1]\"]]), \"error\")\n",
    "\n",
    "plt.title(\"training error\")\n",
    "plt.legend()\n",
    "plt.xlabel(\"epoch\")\n",
    "plt.show()"
   ]
  },
  {
   "cell_type": "code",
   "execution_count": null,
   "metadata": {},
   "outputs": [],
   "source": []
  }
 ],
 "metadata": {
  "kernelspec": {
   "display_name": "repr learning",
   "language": "python",
   "name": "myenv"
  },
  "language_info": {
   "codemirror_mode": {
    "name": "ipython",
    "version": 3
   },
   "file_extension": ".py",
   "mimetype": "text/x-python",
   "name": "python",
   "nbconvert_exporter": "python",
   "pygments_lexer": "ipython3",
   "version": "3.7.2"
  }
 },
 "nbformat": 4,
 "nbformat_minor": 2
}
