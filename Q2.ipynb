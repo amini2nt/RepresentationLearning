{
 "cells": [
  {
   "cell_type": "markdown",
   "metadata": {},
   "source": [
    "### Problem 2:"
   ]
  },
  {
   "cell_type": "code",
   "execution_count": 1,
   "metadata": {
    "scrolled": true
   },
   "outputs": [],
   "source": [
    "import time\n",
    "import numpy as np\n",
    "import torch\n",
    "import torch.nn as nn\n",
    "import torch.optim as optim\n",
    "import torch.nn.init as init\n",
    "import torch.nn.functional as F\n",
    "import torchvision\n",
    "import torchvision.transforms\n",
    "import matplotlib.pyplot as plt\n",
    "from scipy.interpolate import make_interp_spline, BSpline\n",
    "import pprint"
   ]
  },
  {
   "cell_type": "code",
   "execution_count": 2,
   "metadata": {},
   "outputs": [],
   "source": [
    "class Classifier(nn.Module):\n",
    "    \"\"\"Convnet Classifier\"\"\"\n",
    "    def __init__(self, feature_maps, dropouts):\n",
    "        super(Classifier, self).__init__()\n",
    "        self.feature_maps = feature_maps\n",
    "        self.dropouts = dropouts\n",
    "        layers = self.layer(1,feature_maps[0], dropouts[0])+self.layer(feature_maps[0],feature_maps[1], dropouts[1])+self.layer(feature_maps[1],feature_maps[2], dropouts[2])+self.layer(feature_maps[2],feature_maps[3], dropouts[3])+self.layer(feature_maps[3],feature_maps[4], dropouts[4])\n",
    "        self.conv = nn.Sequential(*layers)\n",
    "        self.clf = nn.Linear(feature_maps[-1], 10)\n",
    "        self.drop = nn.Dropout(p=0.4)\n",
    "        \n",
    "        \n",
    "        \n",
    "    def layer(self, i, o, dropout=0.1):\n",
    "        return [nn.Conv2d(in_channels=i, out_channels=o, kernel_size=(4, 4), padding=2),\n",
    "                #nn.BatchNorm2d(o),\n",
    "                nn.Dropout(p=dropout),\n",
    "                nn.ReLU(),\n",
    "                nn.MaxPool2d(kernel_size=(2, 2), stride=2)]\n",
    "    \n",
    "    def num_parameters(self):\n",
    "        pars = 0\n",
    "        for a,b in zip([1] + self.feature_maps, self.feature_maps):\n",
    "            current_layer_parameters = a * 16 * b\n",
    "            pars = pars + current_layer_parameters\n",
    "        pars = pars + self.feature_maps[-1] * 10\n",
    "        print(\"we have \", float(pars)/1000000, \" million parameters\") # Ignore biases\n",
    "    \n",
    "    def forward(self, x):\n",
    "        x = self.conv(x)\n",
    "        y = x.squeeze()\n",
    "        return self.clf(self.drop(y))"
   ]
  },
  {
   "cell_type": "code",
   "execution_count": 3,
   "metadata": {},
   "outputs": [
    {
     "name": "stdout",
     "output_type": "stream",
     "text": [
      "Downloading http://yann.lecun.com/exdb/mnist/train-images-idx3-ubyte.gz\n",
      "Downloading http://yann.lecun.com/exdb/mnist/train-labels-idx1-ubyte.gz\n",
      "Downloading http://yann.lecun.com/exdb/mnist/t10k-images-idx3-ubyte.gz\n",
      "Downloading http://yann.lecun.com/exdb/mnist/t10k-labels-idx1-ubyte.gz\n",
      "Processing...\n",
      "Done!\n",
      "Cuda available: False\n",
      "[20, 40, 60, 80, 128] [0, 0.1, 0.1, 0.1, 0.1]\n",
      "we have  0.29344  million parameters\n",
      "[(97.83, 0.32906406849964276), (98.86, 0.07850550140327672), (98.41, 0.052008200776395896), (99.24, 0.0432359680835245), (99.15, 0.03726691778884259), (99.11, 0.031148918564798737), (99.22, 0.027646450482721904), (99.39, 0.023994634023257917), (99.29, 0.023962631770002563), (99.3, 0.019896410761087308)]\n",
      "[20, 40, 60, 80, 128] [0, 0.4, 0.4, 0.1, 0.1]\n",
      "we have  0.29344  million parameters\n",
      "[(98.19, 0.33152414017370835), (98.33, 0.09417235039905317), (99.12, 0.07096778688980128), (99.09, 0.05507851247864364), (99.4, 0.05142397920031156), (99.29, 0.04497131878045449), (99.17, 0.042224169792190416), (99.34, 0.0385970377953036), (99.28, 0.034625441999609534), (99.35, 0.03376756852635665)]\n",
      "[20, 40, 60, 80, 128] [0, 0.1, 0.5, 0.1, 0.5]\n",
      "we have  0.29344  million parameters\n",
      "[(98.35, 0.3592894788978419), (98.76, 0.0948590826946122), (99.03, 0.06879627885126165), (99.11, 0.05638412837542768), (99.34, 0.04862755998524267), (99.17, 0.04607319036947448), (99.17, 0.04050923429572506), (99.39, 0.036552061438997356), (99.4, 0.03532305241687529), (99.3, 0.03254728928915283)]\n",
      "[20, 40, 60, 50, 40] [0, 0.1, 0.1, 0.1, 0.1]\n",
      "we have  0.13192  million parameters\n",
      "[(97.75, 0.43208765533210625), (98.66, 0.1210601732853665), (98.81, 0.08817016113517699), (99.02, 0.067153536124842), (98.95, 0.05631474888067383), (99.06, 0.049938375894814285), (99.2, 0.042404342925291195), (99.2, 0.039592164689734546), (99.16, 0.03490958535777671), (98.94, 0.03255051462702564)]\n",
      "[20, 40, 60, 50, 40] [0, 0.4, 0.4, 0.1, 0.1]\n",
      "we have  0.13192  million parameters\n",
      "[(97.99, 0.4208354627781077), (98.44, 0.13381499810410397), (98.94, 0.10104254715200235), (99.2, 0.08375422845580685), (99.1, 0.07031284961730305), (99.14, 0.06396837260867995), (99.28, 0.05611296043769002), (99.14, 0.05342274821544094), (99.2, 0.04830903040844876), (99.38, 0.0461503064383004)]\n",
      "[20, 40, 60, 50, 40] [0, 0.1, 0.5, 0.1, 0.5]\n",
      "we have  0.13192  million parameters\n",
      "[(97.69, 0.47202362521275526), (98.62, 0.1371016785867814), (99.08, 0.09810475484807608), (98.98, 0.08102872397806217), (99.09, 0.06721818938589236), (99.31, 0.06400120586180674), (99.18, 0.05872045789978334), (99.13, 0.052974631144071437), (99.25, 0.0482664543952642), (99.33, 0.04734016673317723)]\n",
      "[20, 40, 50, 60, 70] [0, 0.1, 0.1, 0.1, 0.1]\n",
      "we have  0.16102  million parameters\n",
      "[(97.71, 0.3671439019307844), (98.57, 0.09629321323711672), (98.79, 0.06887919193447463), (99.06, 0.05345486447826695), (99.04, 0.045344130600741044), (98.96, 0.0395009142757733), (99.07, 0.03498571263407784), (99.13, 0.030886409146937608), (99.24, 0.028548911730173047), (99.33, 0.025662225507287136)]\n",
      "[20, 40, 50, 60, 70] [0, 0.4, 0.4, 0.1, 0.1]\n",
      "we have  0.16102  million parameters\n",
      "[(97.67, 0.37673722796324793), (98.77, 0.10758400471535509), (98.99, 0.08101232594915672), (99.2, 0.06558915099371344), (99.13, 0.059660851351742046), (99.33, 0.052577564435234585), (99.32, 0.045772586422942595), (99.28, 0.042755144876616594), (99.41, 0.042150516277437274), (99.37, 0.037724697150226465)]\n",
      "[20, 40, 50, 60, 70] [0, 0.1, 0.5, 0.1, 0.5]\n",
      "we have  0.16102  million parameters\n",
      "[(97.46, 0.4644915182659748), (98.38, 0.12798738899801584), (98.74, 0.09016914473477203), (98.96, 0.07576707232274862), (99.14, 0.06393148850546336), (99.03, 0.05712227641479738), (99.17, 0.05234827526779508), (99.32, 0.046801944433062126), (99.24, 0.04653632902959262), (99.28, 0.04319469502835131)]\n"
     ]
    }
   ],
   "source": [
    "perf = {}\n",
    "\n",
    "torch.manual_seed(0)\n",
    "mnist_transforms = torchvision.transforms.Compose([torchvision.transforms.ToTensor()])\n",
    "mnist_train = torchvision.datasets.MNIST(root='./data', train=True, transform=mnist_transforms, download=True)\n",
    "mnist_test = torchvision.datasets.MNIST(root='./data', train=False, transform=mnist_transforms, download=True)\n",
    "\n",
    "train_loader = torch.utils.data.DataLoader(mnist_train, batch_size=64, shuffle=True, num_workers=2)\n",
    "test_loader = torch.utils.data.DataLoader(mnist_test, batch_size=64, shuffle=True, num_workers=2)\n",
    "\n",
    "cuda_available = torch.cuda.is_available()\n",
    "print(\"Cuda available: %s\" % cuda_available)\n",
    "feature_maps = [[20,40,60,80,128], [20,40,60,50,40], [20,40,50,60,70]]\n",
    "dropouts = [[0, 0.1, 0.1, 0.1,0.1 ], [0, 0.4, 0.4, 0.1,0.1 ], [0, 0.1, 0.5, 0.1,0.5 ]]\n",
    "for feature_map in feature_maps:\n",
    "    for dropout in dropouts:\n",
    "        hyper = str(feature_map)+\" \"+str(dropout)\n",
    "        print(hyper)\n",
    "        perf[hyper] = []\n",
    "        clf = Classifier(feature_map, dropout)\n",
    "        clf.num_parameters()\n",
    "        if cuda_available:\n",
    "            clf = clf.cuda()\n",
    "        optimizer = torch.optim.Adam(clf.parameters(), lr=0.001)\n",
    "        criterion = nn.CrossEntropyLoss() #  LogSoftmax and NLLLoss\n",
    "\n",
    "        for epoch in range(10):\n",
    "            # Train\n",
    "            current_epoch_loss = []\n",
    "            for batch_idx, (inputs, targets) in enumerate(train_loader):\n",
    "                if cuda_available:\n",
    "                    inputs, targets = inputs.cuda(), targets.cuda()\n",
    "\n",
    "                optimizer.zero_grad()\n",
    "                loss = criterion(clf(inputs), targets)\n",
    "                loss.backward()\n",
    "                optimizer.step()\n",
    "                current_epoch_loss.append(loss.item())\n",
    "            myLoss =  np.mean(current_epoch_loss)\n",
    "            \n",
    "            #    if batch_idx%500==0:\n",
    "            #       print('Epoch : %d, Loss : %.3f ' % (epoch, np.mean(losses)))\n",
    "            \n",
    "            # Evaluate\n",
    "            clf.eval()\n",
    "            total = 0\n",
    "            correct = 0\n",
    "            for batch_idx, (inputs, targets) in enumerate(test_loader):\n",
    "                if cuda_available:\n",
    "                    inputs, targets = inputs.cuda(), targets.cuda()\n",
    "                outputs = clf(inputs)\n",
    "                _, predicted = torch.max(outputs.data, 1)\n",
    "                total += targets.size(0)\n",
    "                correct += predicted.eq(targets.data).cpu().sum()\n",
    "            accur = 100*float(correct)/total    \n",
    "            #print('Epoch : %d, Test Accuracy : %.2f%%, number of tests : %d' % (epoch, accur, total))\n",
    "            #print('--------------------------------------------------------------')\n",
    "            clf.train()\n",
    "            perf[hyper].append((accur, myLoss))\n",
    "        print(perf[hyper])\n",
    "\n",
    "\n",
    "        \n",
    " \n"
   ]
  },
  {
   "cell_type": "markdown",
   "metadata": {},
   "source": [
    "# we select the  top combination of hyperparameters in the following:  \n",
    "and further plot the training error and validation accuracy for the ten epochs. The training error for each epoch indicates the mean of all the losses at each step during that epoch. "
   ]
  },
  {
   "cell_type": "code",
   "execution_count": 4,
   "metadata": {},
   "outputs": [],
   "source": [
    "best_performance = max(perf.values(), key=lambda x: max([a[0] for a in x]))\n",
    "best_accuracy = [x[0] for x in best_performance]\n",
    "best_loss = [x[1] for x in best_performance]\n"
   ]
  },
  {
   "cell_type": "code",
   "execution_count": 5,
   "metadata": {},
   "outputs": [],
   "source": [
    "def plotThis(x, label ):\n",
    "    xnew = np.linspace(np.arange(x.shape[0]).min(),np.arange(x.shape[0]).max(),300)\n",
    "    spl = make_interp_spline(np.arange(x.shape[0]),x, k=3)\n",
    "    power_smooth = spl(xnew)\n",
    "    xx = plt.plot(xnew,power_smooth, label = label)\n"
   ]
  },
  {
   "cell_type": "code",
   "execution_count": 6,
   "metadata": {},
   "outputs": [
    {
     "data": {
      "image/png": "[encoded data removed]",
      "text/plain": [
       "<matplotlib.figure.Figure at 0x7fd15a6bb390>"
      ]
     },
     "metadata": {},
     "output_type": "display_data"
    }
   ],
   "source": [
    "plotThis(np.array(best_accuracy), \"accuracy\")\n",
    "\n",
    "plt.title(\"validation accuracy\")\n",
    "plt.xlabel(\"epoch\")\n",
    "plt.legend()\n",
    "plt.show()"
   ]
  },
  {
   "cell_type": "code",
   "execution_count": 7,
   "metadata": {},
   "outputs": [
    {
     "data": {
      "image/png": "[encoded data removed]",
      "text/plain": [
       "<matplotlib.figure.Figure at 0x7fd157260668>"
      ]
     },
     "metadata": {},
     "output_type": "display_data"
    }
   ],
   "source": [
    "plotThis(np.array(best_loss), \"error\")\n",
    "\n",
    "plt.title(\"training error\")\n",
    "plt.legend()\n",
    "plt.xlabel(\"epoch\")\n",
    "plt.show()"
   ]
  },
  {
   "cell_type": "markdown",
   "metadata": {},
   "source": [
    "We have lowered the dropout from p=0.5 to p=0.1 or p=0.4 for various convolutional layers. This was inspired by Park et.al (Analysis on the Dropout Effect in Convolutional Neural Networks), and didn't affect the generalization negatively. The dropout rate the first layer has been set to 0 for the same reason.\n",
    "We also compared the dropout results with batch normalization, and found no improvements with batch normalization."
   ]
  },
  {
   "cell_type": "code",
   "execution_count": null,
   "metadata": {},
   "outputs": [],
   "source": []
  }
 ],
 "metadata": {
  "kernelspec": {
   "display_name": "Python 3",
   "language": "python",
   "name": "python3"
  },
  "language_info": {
   "codemirror_mode": {
    "name": "ipython",
    "version": 3
   },
   "file_extension": ".py",
   "mimetype": "text/x-python",
   "name": "python",
   "nbconvert_exporter": "python",
   "pygments_lexer": "ipython3",
   "version": "3.6.7"
  }
 },
 "nbformat": 4,
 "nbformat_minor": 2
}
